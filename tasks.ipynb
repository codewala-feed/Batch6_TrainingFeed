{
 "cells": [
  {
   "cell_type": "code",
   "execution_count": null,
   "metadata": {},
   "outputs": [],
   "source": [
    "\"\"\"\n",
    "1.\n",
    "rewrite the following variables correctly just below each variable inside this comment\n",
    "2number, first-name, last name\n",
    "number2, first_name, lastName\n",
    "\"\"\""
   ]
  },
  {
   "cell_type": "code",
   "execution_count": 2,
   "metadata": {},
   "outputs": [
    {
     "name": "stdout",
     "output_type": "stream",
     "text": [
      "sum is 120\n"
     ]
    }
   ],
   "source": [
    "\"\"\"\n",
    "2.\n",
    "take two integer inputs and print their sum\n",
    "ex: \n",
    "10\n",
    "20\n",
    "sum is 30\n",
    "\"\"\"\n",
    "num1 = int(input(\"Enter Num1:\"))\n",
    "num2 = int(input(\"Enter Num2:\"))\n",
    "print(\"sum is\", num1+num2)"
   ]
  },
  {
   "cell_type": "code",
   "execution_count": null,
   "metadata": {},
   "outputs": [],
   "source": [
    "\"\"\"\n",
    "3.\n",
    "take two float inputs and print their sum\n",
    "ex: \n",
    "25.5\n",
    "25.5\n",
    "sum is 51.0\n",
    "\"\"\"\n",
    "num1 = float(input(\"Enter Num1:\"))\n",
    "num2 = float(input(\"Enter Num2:\"))\n",
    "print(\"sum is\", num1+num2)"
   ]
  },
  {
   "cell_type": "code",
   "execution_count": 3,
   "metadata": {},
   "outputs": [
    {
     "name": "stdout",
     "output_type": "stream",
     "text": [
      "fullname: akhil chowdary\n"
     ]
    }
   ],
   "source": [
    "\"\"\"\n",
    "4.\n",
    "take two string inputs, first_name and last_name, print the full name\n",
    "ex: \n",
    "akhil\n",
    "chowdary\n",
    "fullname: akhil chowdary\n",
    "\"\"\"\n",
    "first_name = input(\"Enter firstname:\")\n",
    "last_name = input(\"Enter lastname:\")\n",
    "print(\"fullname:\", first_name, last_name)"
   ]
  },
  {
   "cell_type": "code",
   "execution_count": 5,
   "metadata": {},
   "outputs": [
    {
     "name": "stdout",
     "output_type": "stream",
     "text": [
      "Hello akhil, you are 24 years old\n"
     ]
    }
   ],
   "source": [
    "\"\"\"\n",
    "5.\n",
    "take string input and integer input and print the following message\n",
    "ex: akhil\n",
    "     24\n",
    "Hello akhil, you are 24 years old\n",
    "\"\"\"\n",
    "name = input(\"Enter Name:\")\n",
    "age = int(input(\"Enter Age:\"))\n",
    "print(f\"Hello {name}, you are {age} years old\")"
   ]
  },
  {
   "cell_type": "code",
   "execution_count": null,
   "metadata": {},
   "outputs": [],
   "source": [
    "\"\"\" \n",
    "6. \n",
    "write Type conversions for every primitive & composite data types\n",
    "\"\"\""
   ]
  },
  {
   "cell_type": "code",
   "execution_count": null,
   "metadata": {},
   "outputs": [],
   "source": [
    "\"\"\" \n",
    "7. \n",
    "convert a integer input to float and \n",
    "find the address of that variable before and after conversion.\n",
    "\"\"\""
   ]
  },
  {
   "cell_type": "code",
   "execution_count": null,
   "metadata": {},
   "outputs": [],
   "source": [
    "\"\"\" \n",
    "8.\n",
    "Take a string input for name. \n",
    "Print a welcome message for Banking\n",
    "\n",
    "sample input:\n",
    "akhil\n",
    "sample output:\n",
    "Hey akhil, Happy HDFC Banking :)\n",
    "\"\"\""
   ]
  },
  {
   "cell_type": "code",
   "execution_count": null,
   "metadata": {},
   "outputs": [],
   "source": [
    "\"\"\" \n",
    "9. \n",
    "take three integer inputs and print their sum by using f\"\"\n",
    "\n",
    "sample input:\n",
    "10\n",
    "20\n",
    "30\n",
    "sample output:\n",
    "Sum of 10, 20 and 30 is 60.\n",
    "\"\"\""
   ]
  },
  {
   "cell_type": "code",
   "execution_count": null,
   "metadata": {},
   "outputs": [],
   "source": [
    "\"\"\" \n",
    "10. \n",
    "take three integer inputs and print their product by using f\"\"\n",
    "\n",
    "sample input:\n",
    "1\n",
    "2\n",
    "3\n",
    "sample output:\n",
    "Product of 1, 2 and 3 is 6.\n",
    "\"\"\""
   ]
  },
  {
   "cell_type": "code",
   "execution_count": null,
   "metadata": {},
   "outputs": [],
   "source": [
    "\"\"\" \n",
    "11.\n",
    "take age from the user and print the double of his age \n",
    "\n",
    "sample input:\n",
    "24\n",
    "sample output:\n",
    "48\n",
    "\"\"\""
   ]
  },
  {
   "cell_type": "code",
   "execution_count": null,
   "metadata": {},
   "outputs": [],
   "source": [
    "\"\"\" \n",
    "12.\n",
    "take salaries of two persons and print their salary differences\n",
    "\n",
    "sample input:\n",
    "24000\n",
    "20000\n",
    "sample output:\n",
    "4000\n",
    "\"\"\""
   ]
  },
  {
   "cell_type": "code",
   "execution_count": null,
   "metadata": {},
   "outputs": [],
   "source": [
    "\"\"\" \n",
    "13.\n",
    "take the age input and check if he is old or not(greater than 60 is old)\n",
    "\n",
    "sample input:\n",
    "50\n",
    "sample output:\n",
    "False\n",
    "\"\"\""
   ]
  },
  {
   "cell_type": "code",
   "execution_count": null,
   "metadata": {},
   "outputs": [],
   "source": [
    "\"\"\" \n",
    "14.\n",
    "take the number input and print the cube of it using short hand assignment operators\n",
    "\n",
    "sample input:\n",
    "5\n",
    "sample output:\n",
    "125\n",
    "\"\"\""
   ]
  },
  {
   "cell_type": "code",
   "execution_count": null,
   "metadata": {},
   "outputs": [],
   "source": [
    "\"\"\" \n",
    "15.\n",
    "take a sentence and a word inputs, check if word exists in sentence using membership operators\n",
    "\n",
    "sample input:\n",
    "I could do this all day\n",
    "do\n",
    "sample output:\n",
    "True\n",
    "\"\"\""
   ]
  },
  {
   "cell_type": "code",
   "execution_count": null,
   "metadata": {},
   "outputs": [],
   "source": [
    "\"\"\" \n",
    "16. Check the identity of all the primitive pairs and composite pairs\n",
    "\n",
    "sample input 1:\n",
    "12\n",
    "12\n",
    "sample output 1:\n",
    "243546342435\n",
    "243546342435\n",
    "\n",
    "sample input 2:\n",
    "[1,2,3]\n",
    "[1,2,3]\n",
    "sample output 2:\n",
    "44353546342435\n",
    "44353546340000\n",
    "\"\"\""
   ]
  }
 ],
 "metadata": {
  "kernelspec": {
   "display_name": "Python 3",
   "language": "python",
   "name": "python3"
  },
  "language_info": {
   "codemirror_mode": {
    "name": "ipython",
    "version": 3
   },
   "file_extension": ".py",
   "mimetype": "text/x-python",
   "name": "python",
   "nbconvert_exporter": "python",
   "pygments_lexer": "ipython3",
   "version": "3.12.4"
  }
 },
 "nbformat": 4,
 "nbformat_minor": 2
}
