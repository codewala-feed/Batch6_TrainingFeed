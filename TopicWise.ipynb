{
 "cells": [
  {
   "cell_type": "code",
   "execution_count": null,
   "metadata": {},
   "outputs": [],
   "source": [
    "# variables and values \n",
    "name = \"akhil\"\n",
    "age = 24\n",
    "salary = 500.45\n",
    "isMarried = False\n",
    "isCommitted = True\n",
    "age = 25\n",
    "\n",
    "# del age\n",
    "\n",
    "print(name)\n",
    "print(salary)\n",
    "print(\"salary\")            \n",
    "print(\"12324tdgyf.@$#%^$3546\")\n",
    "print('igehmvwaebhe')\n",
    "print(\"\"\"kdslkjfhgdbgdj\"\"\")\n",
    "print('''codewala''')\n",
    "print(age)"
   ]
  },
  {
   "cell_type": "code",
   "execution_count": null,
   "metadata": {},
   "outputs": [],
   "source": [
    "# variable naming conventions\n",
    "\"\"\" \n",
    "- should not have spaces in variable\n",
    "- should not contain numbers at start\n",
    "- should start with only alphabets or _\n",
    "- to separate words in variable, you can use _ or capital letter in between\n",
    "- should not use keywords as variables\n",
    "\n",
    "snake case: is_married\n",
    "camel case: isMarried\n",
    "pascal casse: IsMarried\n",
    "\n",
    "\"\"\"\n",
    "# keywords (it is meant to be use for something(inbuilt))\n",
    "import keyword\n",
    "print(keyword.kwlist)\n",
    "print(len(keyword.kwlist))"
   ]
  },
  {
   "cell_type": "code",
   "execution_count": null,
   "metadata": {},
   "outputs": [],
   "source": [
    "\"\"\"\n",
    "data types\n",
    "\n",
    "primitive: int, float, bool, str\n",
    "composite/non-primitive: list [], tuple (), set {}, dict {key:value}\n",
    "\"\"\"\n",
    "name = \"akhil\"\n",
    "age = 24\n",
    "salary = 500.45\n",
    "isMarried = False\n",
    "isCommitted = True\n",
    "age = 25\n",
    "\n",
    "print(\"Primitive Data Types:\")\n",
    "print(name)\n",
    "print(age)\n",
    "print(salary)\n",
    "print(isMarried)\n",
    "print(isCommitted)\n",
    "\n",
    "names = [\"akhil\", \"adithya\", \"hari\", 120, True, 234.3, \"akhil\"]\n",
    "ages = (24,24, 45, 234, \"ravi\", \"cherry\")\n",
    "numbers = {1, 1, 2, 3, 4, 5}\n",
    "data = {\"name\":\"akhil\", \"age\":24, \"isCommitted\":True, 100:\"id\"}\n",
    "\n",
    "print()\n",
    "\n",
    "print(\"Composite Data Types:\")\n",
    "print(names)\n",
    "print(ages)\n",
    "print(numbers)\n",
    "print(data)"
   ]
  },
  {
   "cell_type": "code",
   "execution_count": null,
   "metadata": {},
   "outputs": [],
   "source": [
    "# input, output(print)\n",
    "name = input(\"Please Enter Name:\")\n",
    "print(\"Name Entered\", name)\n",
    "\n",
    "print()\n",
    "\n",
    "age = int(input(\"Please Enter Age:\"))\n",
    "print(\"Age Entered\", age)\n",
    "\n",
    "print()\n",
    "\n",
    "salary = float(input(\"Please Enter salary:\"))\n",
    "print(\"salary Entered\", salary)"
   ]
  },
  {
   "cell_type": "code",
   "execution_count": null,
   "metadata": {},
   "outputs": [],
   "source": [
    "# type conversions\n",
    "\"\"\" \n",
    "str -> int\n",
    "str -> float\n",
    "str -> bool\n",
    "\n",
    "int/float/bool -> str\n",
    "\n",
    "int -> float\n",
    "float -> int\n",
    "\"\"\"\n",
    "\n",
    "print(\"str->int\")\n",
    "age = \"200\"\n",
    "print(f\"Before Converting {type(age)}\")\n",
    "\n",
    "age = int(age)\n",
    "print(f\"After Converting {type(age)}\")\n",
    "\n",
    "# ---\n",
    "a = \"200.2\"\n",
    "print(a, type(a))\n",
    "\n",
    "a = float(a) #200.2\n",
    "a = int(a) #200\n",
    "print(a, type(a))\n",
    "\n",
    "print(\"--------------------------------------\")\n",
    "\n",
    "print(\"str->float\")\n",
    "salary = \"200.5\"\n",
    "print(f\"Before Converting {type(salary)}\")\n",
    "\n",
    "salary = float(salary)\n",
    "print(f\"After Converting {type(salary)}\")\n",
    "\n",
    "print(\"--------------------------------------\")\n",
    "\n",
    "# all zeroes, empties are False\n",
    "print(\"str->bool\")\n",
    "num = \"\"\n",
    "print(f\"Before convering:{type(num)}\")\n",
    "\n",
    "num = bool(num)\n",
    "print(f\"After conversion:{type(num)}\")\n",
    "\n",
    "print(\"--------------------------------------\")\n",
    "\n",
    "print(\"int/float/bool -> str\")\n",
    "# no problem while converting into string\n",
    "age = 20\n",
    "salary = 234.5\n",
    "isMarried = False\n",
    "print(\"Before Conversion\")\n",
    "print(age, type(age))\n",
    "print(salary, type(salary))\n",
    "print(isMarried, type(isMarried))\n",
    "\n",
    "print()\n",
    "\n",
    "age = str(age)\n",
    "salary = str(salary)\n",
    "isMarried = str(isMarried)\n",
    "print(\"After Conversion\")\n",
    "print(age, type(age))\n",
    "print(salary, type(salary))\n",
    "print(isMarried, type(isMarried))\n",
    "\n",
    "print(\"----------------------------\")\n",
    "\n",
    "print(\"int->float\")\n",
    "age = 20\n",
    "print(f\"Before Conversion {age}, {type(age)}\")\n",
    "\n",
    "age = float(age)\n",
    "print(f\"After Conversion {age}, {type(age)}\")\n",
    "\n",
    "print(\"----------------------------\")\n",
    "\n",
    "print(\"float->int\")\n",
    "age = 20.2\n",
    "print(f\"Before Conversion {age}, {type(age)}\")\n",
    "\n",
    "age = int(age)\n",
    "print(f\"After Conversion {age}, {type(age)}\")\n"
   ]
  },
  {
   "cell_type": "code",
   "execution_count": null,
   "metadata": {},
   "outputs": [],
   "source": [
    "# memory model\n",
    "# MEMORY MODEL RANGE: -5 to 256\n",
    "name = \"akhil\"\n",
    "print(f\"{name} stored at physical address: {id(name)}\")\n",
    "\n",
    "name = \"akhil chowdary\"\n",
    "print(f\"{name} stored at physical address: {id(name)}\")\n",
    "\n",
    "age = 30\n",
    "print(f\"{age} stored at physical address: {id(age)}\")\n",
    "\n",
    "nums = [1, 2, 3]\n",
    "print(f\"{nums} stored at physical address: {id(nums)}\")\n"
   ]
  },
  {
   "cell_type": "code",
   "execution_count": null,
   "metadata": {},
   "outputs": [],
   "source": [
    "\"\"\" \n",
    "operators\n",
    "  -Arithmetic Operators (+, -, *, /, //, %, **)\n",
    "  -Relational Operators (<, >, ==, >=, <=)\n",
    "  -Logical Operators (and, or, not)\n",
    "  -Short-hand Assignment Operators (+=, -=, *=, /=, //=, %=, **=)\n",
    "  -Membership Operators (in, not in)\n",
    "  -Identity Operators (is, is not)\n",
    "\"\"\"\n",
    "print(\"Arithmetic Operators (+, -, *, /, //, %, **)\")\n",
    "age = 24\n",
    "age = age + 5\n",
    "age = age * 2\n",
    "age = age - 8\n",
    "age = age//2\n",
    "print(age)\n",
    "\n",
    "print(f\"25/2 ==== {25/2}\")\n",
    "print(25//2)\n",
    "print(3 ** 10)\n",
    "\n",
    "print(40//2) # quotient\n",
    "print(40%2) # reminder\n"
   ]
  },
  {
   "cell_type": "code",
   "execution_count": null,
   "metadata": {},
   "outputs": [],
   "source": [
    "print(\"Relational Operators (<, >, ==, >=, <=)\")\n",
    "a = 10\n",
    "b = 10\n",
    "print(f\"{b} > {a} =========== {b>a}\")\n",
    "print(f\"{b} < {a} =========== {b<a}\")\n",
    "print(f\"{b} == {a} =========== {b==a}\")\n",
    "print(f\"{b} >= {a} =========== {b>=a}\")\n",
    "print(f\"{b} <= {a} =========== {b<=a}\")"
   ]
  },
  {
   "cell_type": "code",
   "execution_count": null,
   "metadata": {},
   "outputs": [],
   "source": [
    "print(\"Logical Operators (and, or, not)\")\n",
    "a = 10\n",
    "b = 20\n",
    "print(f\"a>b and a>5 =========== {a>b and a>5}\") # print(False and True)\n",
    "print(a>b or a>15) # print(False or False)\n",
    "print(a>b or a>15) # print(False or False)\n",
    "print(not a>b)\n",
    "\n",
    "print(10>20 and 10>30 and 10==10) #print(False and False and True)\n",
    "print(10>20 or 10>30 or 10==10) #print(False or False or True)\n"
   ]
  },
  {
   "cell_type": "code",
   "execution_count": null,
   "metadata": {},
   "outputs": [],
   "source": [
    "# Tasks on logical operators\n",
    "\"\"\"\n",
    "check if he is a perfect man\n",
    "conditions: \n",
    "  age should be greater than 18\n",
    "  gender should be male\n",
    "\"\"\"\n",
    "\n",
    "age = int(input(\"Enter Age:\"))\n",
    "gender = input(\"Enter Gender:\")\n",
    "print(f\"Perfect Man = {age>18 and gender==\"male\"}\")\n",
    "\n",
    "\"\"\" \n",
    "Accept if it is a boy or girl\n",
    "\"\"\"\n",
    "gender = input(\"Enter Gender:\")\n",
    "print(f\"Acceptable: {(gender==\"girl\") or (gender==\"boy\")}\")\n",
    "\n",
    "\"\"\" \n",
    "check the speed is danger or not\n",
    "safe limit is 80\n",
    "\"\"\"\n",
    "speed = int(input(\"Enter Speed:\"))\n",
    "print(f\"Driving Safe: {speed<80}\")"
   ]
  },
  {
   "cell_type": "code",
   "execution_count": null,
   "metadata": {},
   "outputs": [],
   "source": [
    "print(\"Short-hand Assignment Operators (+=, -=, *=, /=, //=, %=, **=)\")\n",
    "age = 24\n",
    "# age = age + 5\n",
    "age += 5\n",
    "\n",
    "# age = age * 2\n",
    "age *= 2\n",
    "\n",
    "# age = age - 8\n",
    "age -= 8\n",
    "\n",
    "# age = age//2\n",
    "age //= 2\n",
    "\n",
    "# age = age ** 3\n",
    "age **= 3\n",
    "\n",
    "print(age)"
   ]
  },
  {
   "cell_type": "code",
   "execution_count": null,
   "metadata": {},
   "outputs": [],
   "source": [
    "name = \"nikhil\"\n",
    "age = 24\n",
    "gender = \"male\"\n",
    "city = \"kansas\"\n",
    "print(f\"There is a person named {name} and he is {age} years old and he is {gender}, living in {city}\")"
   ]
  },
  {
   "cell_type": "code",
   "execution_count": null,
   "metadata": {},
   "outputs": [],
   "source": [
    "# print(\"Membership Operators (in, not in)\")\n",
    "# print(\"i\" in \"akhil\")\n",
    "# print(1 in [1, 2, 3, 4])\n",
    "# print(\"z\" not in \"akhil\")\n",
    "\n",
    "kansas = [\"akhil\", \"nikhil\", \"rao\"]\n",
    "person = input(\"Person to check:\")\n",
    "print(f\"{person} in {kansas} =====> {person in kansas}\")"
   ]
  },
  {
   "cell_type": "code",
   "execution_count": null,
   "metadata": {},
   "outputs": [],
   "source": [
    "print(\"Identity Operators (is, is not)\")\n",
    "# checks the address\n",
    "\n",
    "nums1 = [1, 2, 3]\n",
    "nums2 = [1, 2, 3]\n",
    "print(f\"nums1 == nums2 -> {nums1 == nums2}\") #checks each elements\n",
    "print(nums1 is nums2) #checks id --> id(nums1) == id(nums2)\n",
    "print(nums1 is not nums2)"
   ]
  },
  {
   "cell_type": "markdown",
   "metadata": {},
   "source": [
    "strings\n",
    "  -representation -> '', \"\"\n",
    "  -indexing       -> akhil -> 0=a, 1=k \n",
    "  -negative indexing -> akhil -> -1=l, -2=i\n",
    "  -quote character in string -> akhil\\'s\n",
    "  -multi line string(using \\,triple quotes)\n",
    "  -string concatenation\n",
    "  -strings mutable or not\n",
    "  -unicode\n",
    "  -slicing(+ve, -ve)"
   ]
  },
  {
   "cell_type": "code",
   "execution_count": null,
   "metadata": {},
   "outputs": [],
   "source": [
    "# strings \"\", ''\n",
    "name = \"akhil chowdary\"\n",
    "print(name)\n",
    "print(name[2])\n",
    "print(name[13]) #+ve indexing\n",
    "print(name[-1]) #-ve indexing"
   ]
  },
  {
   "cell_type": "code",
   "execution_count": null,
   "metadata": {},
   "outputs": [],
   "source": [
    "# quote character in string\n",
    "print('chowdary\\'s car')\n",
    "print(\"chowdary\\'s car\")\n",
    "print(\"\"\"chowdary's car\"\"\")\n",
    "\n",
    "# multi line string(using \\, triple quotes)\n",
    "story = \"once upon a time there lived a king \\\n",
    "    called sri krishna devarayulu in india country\"\n",
    "print(story)\n",
    "\n",
    "\n",
    "story = \"\"\"once upon a time there lived a king \n",
    "    called sri krishna devarayulu in india country\"\"\"\n",
    "print(story)"
   ]
  },
  {
   "cell_type": "code",
   "execution_count": null,
   "metadata": {},
   "outputs": [],
   "source": [
    "# string concatenation (should works if both are same data types)\n",
    "sur_name = \"chittabaneni\"\n",
    "first_name = \"akhil\"\n",
    "last_name = \"chowdary\"\n",
    "print(sur_name + \".\" + first_name + \" \" + last_name)\n",
    "\n",
    "print(\"1\" + str(1))"
   ]
  },
  {
   "cell_type": "code",
   "execution_count": 11,
   "metadata": {},
   "outputs": [
    {
     "name": "stdout",
     "output_type": "stream",
     "text": [
      "2434034298304 140703808420888 2434034246272 2434033489888\n",
      "2434034283056 140703808420728 2434034246272 2434033489888\n"
     ]
    }
   ],
   "source": [
    "# mutable(changeble) vs immutable(unchangeble)\n",
    "name = \"akhil\" # immutable\n",
    "age = 20 # immutable\n",
    "\n",
    "arr = [1, 2, 3] # mutable\n",
    "nums = {1, 2, 3} # mutable\n",
    "\n",
    "print(id(name), id(age), id(arr), id(nums))\n",
    "\n",
    "# -------------------------------------------------\n",
    "name += \"chowdary\"\n",
    "# print(name)\n",
    "\n",
    "age -= 5\n",
    "# print(age)\n",
    "\n",
    "arr.append(4)\n",
    "# print(arr)\n",
    "\n",
    "nums.add(10)\n",
    "# print(nums)\n",
    "\n",
    "print(id(name), id(age), id(arr), id(nums))"
   ]
  },
  {
   "cell_type": "code",
   "execution_count": 9,
   "metadata": {},
   "outputs": [
    {
     "name": "stdout",
     "output_type": "stream",
     "text": [
      "140703808420568 140703808420568 140703808420568\n"
     ]
    }
   ],
   "source": [
    "a=10\n",
    "b=10\n",
    "c=10\n",
    "\n",
    "print(id(a), id(b), id(c))"
   ]
  },
  {
   "cell_type": "code",
   "execution_count": 5,
   "metadata": {},
   "outputs": [
    {
     "name": "stdout",
     "output_type": "stream",
     "text": [
      "a\n",
      "హ\n",
      "こ\n"
     ]
    }
   ],
   "source": [
    "# unicode\n",
    "\n",
    "english = \"akhil\"\n",
    "telugu = \"హోమ్ · వార్తలు · ఆంధ్రప్రదేశ్\"\n",
    "japanese = \"こんにちは。 · 3.\"\n",
    "print(english)\n",
    "print(telugu)\n",
    "print(japanese)\n"
   ]
  },
  {
   "cell_type": "code",
   "execution_count": 53,
   "metadata": {},
   "outputs": [
    {
     "name": "stdout",
     "output_type": "stream",
     "text": [
      "+ve slicing\n",
      "akhil\n",
      "ahl\n",
      "cwr|klmlo\n",
      "codr\n",
      "akhil chowdary | akhil@gmail.com\n",
      "akhil chowdary | akhil@gmail.com\n",
      "---------------------------------------\n",
      "-ve slicing\n",
      "name[-9:] -> gmail.com\n",
      "com\n",
      "akhi\n",
      "mclaglha\n",
      "moc.liamg@lihka\n"
     ]
    }
   ],
   "source": [
    "# slicing (+ve, -ve)\n",
    "name = \"akhil chowdary | akhil@gmail.com\"\n",
    "\n",
    "# start:stop:jump\n",
    "print(\"+ve slicing\")\n",
    "print(name[0:5])\n",
    "print(name[0:5:2])\n",
    "print(name[6::3])\n",
    "print(name[6:14:2])\n",
    "print(name[::])\n",
    "print(name[:])\n",
    "\n",
    "print(\"---------------------------------------\")\n",
    "name = \"akhil@gmail.com\"\n",
    "print(\"-ve slicing\")\n",
    "print(f\"name[-9:] -> {name[-9:]}\") # gmail.com\n",
    "print(name[-3::1]) # com\n",
    "print(name[-15:-11]) # akhil\n",
    "print(name[::-2])\n",
    "print(name[::-1])"
   ]
  },
  {
   "cell_type": "code",
   "execution_count": 64,
   "metadata": {},
   "outputs": [
    {
     "name": "stdout",
     "output_type": "stream",
     "text": [
      "codewala\n",
      "USA\n",
      "NAME654\n",
      "Usa\n"
     ]
    }
   ],
   "source": [
    "# string functions\n",
    "# upper\n",
    "lower_name = \"codewala\"\n",
    "upper_name = lower_name.upper()\n",
    "print(lower_name)\n",
    "\n",
    "akhil = \"usa\"\n",
    "city = \"NaMe654\"\n",
    "\n",
    "lower_akhil = akhil.upper()\n",
    "city_lower = city.upper()\n",
    "\n",
    "temp = lower_akhil.capitalize()\n",
    "\n",
    "print(lower_akhil) #-> USA\n",
    "print(city_lower)\n",
    "print(temp)"
   ]
  },
  {
   "cell_type": "code",
   "execution_count": null,
   "metadata": {},
   "outputs": [
    {
     "data": {
      "text/plain": [
       "' \\nstrings -> \\'kfjw1324#@#\\' \"13424fwv@#@ .\" \\n'"
      ]
     },
     "execution_count": 57,
     "metadata": {},
     "output_type": "execute_result"
    }
   ],
   "source": [
    "\"\"\" \n",
    "strings -> 'kfjw1324#@#' \"13424fwv@#@ .\" \n",
    "\"\"\"\n",
    "# # upper\n",
    "# name = \"akhilCHOWDARY\"\n",
    "# upper_name = name.upper()\n",
    "# print(name)\n",
    "# print(upper_name)\n",
    "\n",
    "# # lower\n",
    "# school = \"CODEwala\"\n",
    "# tmp = school.lower()\n",
    "# print(school)\n",
    "# print(tmp)\n",
    "\n",
    "# # capitalize\n",
    "# state = \"newyork\"\n",
    "# etc = state.capitalize()\n",
    "# print(state)\n",
    "# print(etc)\n",
    "\n",
    "# # replace\n",
    "# story = \"we have just started driving\"\n",
    "# xyz = story.replace(\" \", \"-\")\n",
    "# xyz = xyz.replace(\"w\", \"W\")\n",
    "# print(xyz)\n",
    "\n",
    "# # count\n",
    "# story = \"we have just started driving\"\n",
    "# cnt1 = story.count(\" \")\n",
    "# cnt2 = story.count(\" \", 8)\n",
    "# print(cnt1)\n",
    "# print(cnt2)\n",
    "\n",
    "# # len\n",
    "# name = \"akhil\"\n",
    "# print(len(name))\n",
    "\n",
    "# # strip\n",
    "# offer = \"  we have 1+1 offer  \"\n",
    "# rmd = offer.strip()\n",
    "# print(offer)\n",
    "# print(rmd)\n",
    "\n",
    "# # lstrip\n",
    "# offer = \"  we have 1+1 offer  \"\n",
    "# pns = offer.lstrip()\n",
    "# print(offer)\n",
    "# print(pns)\n",
    "\n",
    "# # rstrip\n",
    "# offer = \"  we have 1+1 offer  \"\n",
    "# lmn = offer.rstrip()\n",
    "# print(offer)\n",
    "# print(lmn)\n",
    "\n",
    "# # split\n",
    "# story = \"we have just started driving\"\n",
    "# pno = story.split()\n",
    "# nop = story.split(\"s\")\n",
    "\n",
    "# print(story)\n",
    "# print(pno)\n",
    "# print(nop)\n",
    "# user = \"akhil-00-01\"\n",
    "# us = user.split(\"-\")\n",
    "# print(us)\n",
    "\n",
    "# # join\n",
    "# names = [\"akhil\", \"chowdary\", \"usa\"]\n",
    "# result = \"-\"\n",
    "# lms = result.join(names)\n",
    "# print(lms)\n",
    "\n",
    "# # find\n",
    "# name = \"noob\"\n",
    "# l = name.find(\"o\")\n",
    "# print(l)\n",
    "\n",
    "# # rfind\n",
    "# r = name.rfind(\"o\")\n",
    "# e = name.find(\"z\")\n",
    "# print(r)\n",
    "# print(e)\n",
    "\n",
    "# # index\n",
    "# name = \"akhihl\"\n",
    "# z = name.index(\"h\")\n",
    "# # p = name.index(\"z\")\n",
    "# print(z)\n",
    "# print(p)"
   ]
  },
  {
   "cell_type": "code",
   "execution_count": null,
   "metadata": {},
   "outputs": [
    {
     "name": "stdout",
     "output_type": "stream",
     "text": [
      "True\n",
      "True\n",
      "True\n",
      "True\n"
     ]
    }
   ],
   "source": [
    "\"\"\" \n",
    "string validation functions\n",
    "  -startswith\n",
    "  -endswith\n",
    "  -isalpha\n",
    "  -isdigit\n",
    "  -isalnum\n",
    "  -isupper\n",
    "  -islower\n",
    "\"\"\"\n",
    "# startswith\n",
    "# name1 = \"ch.akhil\"\n",
    "# name2 = \"p.akhil\"\n",
    "# name3 = \"u.prabhas\"\n",
    "# print(name1[0:2]==\"ch\")\n",
    "# print(name1.startswith(\"ch\"))\n",
    "\n",
    "# print(name2[0:2]==\"ch\")\n",
    "# print(name2.startswith(\"ch\"))\n",
    "\n",
    "# print(name3[0:2]==\"ch\")\n",
    "# print(name3.startswith(\"ch\"))\n",
    "\n",
    "# sen = \"seventeen days ago\"\n",
    "# print(sen.startswith(\"seventeen\"))\n",
    "\n",
    "# # endswith\n",
    "# name = \"nikhil chowdary\"\n",
    "# print(name[-8:]==\"chowdary\")\n",
    "# print(name.endswith(\"chowdary\"))\n",
    "\n",
    "# email1 = \"akhil@gmail.com\"\n",
    "# email2 = \"nikhil@outlook.com\"\n",
    "# email3 = \"nikhil@codewala.info\"\n",
    "\n",
    "# print(email1.endswith(\"@gmail.com\"))\n",
    "# print(email2.endswith(\"@gmail.com\"))\n",
    "# print(email3.endswith(\"@gmail.com\"))\n",
    "\n",
    "# print(email1.endswith(\"@outlook.com\"))\n",
    "# print(email2.endswith(\"@outlook.com\"))\n",
    "# print(email3.endswith(\"@outlook.com\"))\n",
    "\n",
    "# # isalpha\n",
    "# username = \"akhil\"\n",
    "# print(username.isalpha())\n",
    "\n",
    "# # isdigit\n",
    "# username = \"123\"\n",
    "# print(username.isdigit())\n",
    "\n",
    "# # isalnum\n",
    "# username = \"akhil2134\"\n",
    "# print(username.isalnum())\n",
    "\n",
    "# # islower\n",
    "# user = \"akhiL\"\n",
    "# print(user.islower())\n",
    "\n",
    "# # isupper\n",
    "# name = \"Ch.akhil\"\n",
    "# print(name.isupper())\n",
    "# print(name[0].isupper())\n",
    "\n",
    "# sentence = \"Once Upon A Time\"\n",
    "# words = sentence.split()\n",
    "# print(words[0][0].isupper()) #O\n",
    "# print(words[1][0].isupper()) #U\n",
    "# print(words[2][0].isupper()) #A\n",
    "# print(words[3][0].isupper()) #T"
   ]
  },
  {
   "cell_type": "code",
   "execution_count": 4,
   "metadata": {},
   "outputs": [
    {
     "name": "stdout",
     "output_type": "stream",
     "text": [
      "Gender is Female\n"
     ]
    }
   ],
   "source": [
    "# conditional -> if, elif, else\n",
    "gender = \"Male\"\n",
    "if gender == \"male\":\n",
    "\tprint(\"Gender is Male\")\n",
    "else:\n",
    "\tprint(\"Gender is Female\")"
   ]
  },
  {
   "cell_type": "code",
   "execution_count": 6,
   "metadata": {},
   "outputs": [
    {
     "name": "stdout",
     "output_type": "stream",
     "text": [
      "Invalid Gender\n"
     ]
    }
   ],
   "source": [
    "gender = \"MalE\"\n",
    "if (gender == \"male\"):\n",
    "\tprint(\"Gender is Male\")\n",
    "elif (gender == \"female\"):\n",
    "\tprint(\"Gender is Female\")\n",
    "else:\n",
    "\tprint(\"Invalid Gender\")"
   ]
  },
  {
   "cell_type": "code",
   "execution_count": 17,
   "metadata": {},
   "outputs": [
    {
     "name": "stdout",
     "output_type": "stream",
     "text": [
      "Gender is Invalid\n"
     ]
    }
   ],
   "source": [
    "gender = \"trans\"\n",
    "if (gender == \"male\") or (gender == \"Male\"):\n",
    "\tprint(\"Gender is Male\")\n",
    "elif (gender == \"female\") or (gender == \"Female\"):\n",
    "\tprint(\"Gender if Female\")\n",
    "elif (gender == \"boy\") or (gender == \"Boy\"):\n",
    "\tprint(\"Gender is Boy\")\n",
    "elif (gender == \"girl\") or (gender == \"Girl\"):\n",
    "\tprint(\"Gender is Girl\")\n",
    "elif (gender == \"man\") or (gender == \"Man\"):\n",
    "\tprint(\"Gender is Man\")\n",
    "elif (gender == \"woman\") or (gender == \"Woman\"):\n",
    "\tprint(\"Gender is Woman\")\n",
    "else:\n",
    "\tprint(\"Gender is Invalid\")"
   ]
  },
  {
   "cell_type": "code",
   "execution_count": 25,
   "metadata": {},
   "outputs": [
    {
     "name": "stdout",
     "output_type": "stream",
     "text": [
      "Invalid Age\n"
     ]
    }
   ],
   "source": [
    "age = -21\n",
    "if (age > 0) and (age <= 5):\n",
    "    print(\"Kid\")\n",
    "elif (age > 5) and (age <= 18):\n",
    "    print(\"Teen\")\n",
    "elif (age > 18):\n",
    "    print(\"Adult\")\n",
    "else:\n",
    "    print(\"Invalid Age\")"
   ]
  },
  {
   "cell_type": "code",
   "execution_count": 27,
   "metadata": {},
   "outputs": [
    {
     "name": "stdout",
     "output_type": "stream",
     "text": [
      "It has alphabets and digits\n"
     ]
    }
   ],
   "source": [
    "name = \"akhil123\"\n",
    "if (name.isalnum() == True):\n",
    "    print(\"It has alphabets and digits\")\n",
    "elif (\"akhil\" in name):\n",
    "    print(\"akhil is in name\")\n",
    "else:\n",
    "    print(\"Invalid\")"
   ]
  },
  {
   "cell_type": "code",
   "execution_count": 44,
   "metadata": {},
   "outputs": [
    {
     "name": "stdout",
     "output_type": "stream",
     "text": [
      "It has alphabets and/or digits\n"
     ]
    }
   ],
   "source": [
    "# multiple if\n",
    "name = \"Akhil123\"\n",
    "if (name.isalnum() == True):\n",
    "    print(\"It has alphabets and/or digits\")\n",
    "if (\"nikhil\" in name):\n",
    "    print(\"nikhil is in name\")\n",
    "if (name[0].islower() == True):\n",
    "    print(\"First letter is in lowercase\")"
   ]
  },
  {
   "cell_type": "code",
   "execution_count": 53,
   "metadata": {},
   "outputs": [
    {
     "name": "stdout",
     "output_type": "stream",
     "text": [
      "Odd Number\n"
     ]
    }
   ],
   "source": [
    "num = 121\n",
    "if (num == 0):\n",
    "    print(\"Neither Even nor Odd Number\")\n",
    "elif (num%2 == 0):\n",
    "    print(\"Even Number\")\n",
    "else:\n",
    "    print(\"Odd Number\")"
   ]
  },
  {
   "cell_type": "code",
   "execution_count": 57,
   "metadata": {},
   "outputs": [
    {
     "name": "stdout",
     "output_type": "stream",
     "text": [
      "Invalid Numbers\n"
     ]
    }
   ],
   "source": [
    "# nested if-else\n",
    "num = 101\n",
    "if (num > 0) and (num <= 50):\n",
    "    if (num % 2 == 0):\n",
    "        print(f\"Small Even Number:{num}\")\n",
    "    else:\n",
    "        print(f\"Small Odd Number:{num}\")\n",
    "elif (num > 50) and (num <= 100):\n",
    "    if (num % 2 == 0):\n",
    "        print(f\"Big Even Number:{num}\")\n",
    "    else:\n",
    "    \tprint(f\"Big Odd Number:{num}\")\n",
    "else:\n",
    "    print(\"Invalid Numbers\")"
   ]
  },
  {
   "cell_type": "code",
   "execution_count": null,
   "metadata": {},
   "outputs": [
    {
     "name": "stdout",
     "output_type": "stream",
     "text": [
      "10\n",
      "9\n",
      "8\n",
      "7\n",
      "6\n",
      "5\n",
      "4\n",
      "3\n",
      "2\n",
      "1\n",
      "0\n"
     ]
    }
   ],
   "source": [
    "# # looping\n",
    "# # syntax -> (end), (start, end), (start, end, step)\n",
    "# for i in range(10, 15):\n",
    "# \tprint(\"Hello Akhil\")\n",
    "# print(\"Welcome to Batch6\")\n",
    "\n",
    "# for _ in range(10, 15):\n",
    "# \tprint(\"Hello Akhil\")\n",
    "# print(\"Welcome to Batch6\")\n",
    "\n",
    "# for i in range(1, 4):\n",
    "#     print(f\"________________{i}________________\")\n",
    "#     name = input(\"Enter Name: \")\n",
    "#     print(f\"Hello {name}, welcome to codewala\")\n",
    "\n",
    "# for z in range(0, 11):\n",
    "#     print(z)\n",
    "\n",
    "# for z in range(0, 21, 2):\n",
    "#     print(z)\n",
    "\n",
    "# n = 3\n",
    "# for i in range(1, 21):\n",
    "#     print(f\"{n} x {i} = {n*i}\")\n",
    "\n",
    "# name = \"akhil\"\n",
    "# for i in range(len(name)):\n",
    "#     print(name[i])\n",
    "\n",
    "# nums = [10, 20, 30, 40, 50, \"python\", \"java\"]\n",
    "# for i in range(len(nums)):\n",
    "#     print(nums[i])\n",
    "\n",
    "# for i in range(10, 0, -1):\n",
    "#     print(i)"
   ]
  },
  {
   "cell_type": "code",
   "execution_count": 61,
   "metadata": {},
   "outputs": [
    {
     "name": "stdout",
     "output_type": "stream",
     "text": [
      "0 n\n",
      "1 i\n",
      "2 k\n",
      "3 h\n",
      "4 i\n",
      "5 l\n"
     ]
    }
   ],
   "source": [
    "# # while loop\n",
    "# # 1 - 10\n",
    "# i = 1\n",
    "# while i <= 10:\n",
    "#     print(i)\n",
    "#     i += 1\n",
    "    \n",
    "# j = 10\n",
    "# while j >= 1:\n",
    "#     print(j)\n",
    "#     j -= 1\n",
    "    \n",
    "# # -10 to 20\n",
    "# k = -10\n",
    "# while k <= 20:\n",
    "#     print(k)\n",
    "#     k += 1\n",
    "\n",
    "# # 20,19,18,17....-10\n",
    "# p = 20\n",
    "# while p >= -10:\n",
    "#     print(p)\n",
    "#     p -= 1\n",
    "\n",
    "name = \"nikhil\"\n",
    "i = 0\n",
    "while i < len(name):\n",
    "    print(i, name[i])\n",
    "    i += 1"
   ]
  },
  {
   "cell_type": "code",
   "execution_count": null,
   "metadata": {},
   "outputs": [],
   "source": [
    "# # unconditional\n",
    "\"\"\" \n",
    "break (terminates cuurent loop), \n",
    "continue (skips the current iteration),\n",
    "pass (does nothing, it holds the space to avoid error)\n",
    "\n",
    "\"\"\"\n",
    "for i in range(5):\n",
    "    if (i == 2):\n",
    "        break\n",
    "    else:\n",
    "    \tprint(i)\n",
    "\n",
    "for i in range(5):\n",
    "    if (i == 3):\n",
    "        continue\n",
    "    else:\n",
    "        print(i)\n",
    "\n",
    "for i in range(10):\n",
    "    pass\n",
    "\n",
    "if (True):\n",
    "    pass\n",
    "\n"
   ]
  },
  {
   "cell_type": "code",
   "execution_count": null,
   "metadata": {},
   "outputs": [
    {
     "name": "stdout",
     "output_type": "stream",
     "text": [
      "Number found\n"
     ]
    }
   ],
   "source": [
    "# for-else\n",
    "for z in range(1, 6):\n",
    "    if (z % 5 == 0):\n",
    "        print(\"Number found\")\n",
    "        break\n",
    "else:\n",
    "    print(\"Else Block\")\n"
   ]
  },
  {
   "cell_type": "code",
   "execution_count": 31,
   "metadata": {},
   "outputs": [
    {
     "name": "stdout",
     "output_type": "stream",
     "text": [
      "multiple of 4 exists\n"
     ]
    }
   ],
   "source": [
    "# check multiple of 4 exists in between 1 to 5 using for loop\n",
    "for i in range(1, 6):\n",
    "    if (i % 4 == 0):\n",
    "        print(\"multiple of 4 exists\")\n",
    "        break\n",
    "else:\n",
    "    print(\"multiple of 4 does not exists\")"
   ]
  },
  {
   "cell_type": "code",
   "execution_count": null,
   "metadata": {},
   "outputs": [
    {
     "name": "stdout",
     "output_type": "stream",
     "text": [
      "multiple of 4 exists\n"
     ]
    }
   ],
   "source": [
    "# while-else\n",
    "# check multiple of 4 exists in between 1 to 5 using for loop\n",
    "j = 1\n",
    "while (j <= 5):\n",
    "    if (j % 4 == 0):\n",
    "        print(\"multiple of 4 exists\")\n",
    "        break\n",
    "    j += 1\n",
    "else:\n",
    "    print(\"multiple of 4 does not exists\")"
   ]
  },
  {
   "cell_type": "code",
   "execution_count": null,
   "metadata": {},
   "outputs": [
    {
     "name": "stdout",
     "output_type": "stream",
     "text": [
      "Prime Number\n"
     ]
    }
   ],
   "source": [
    "# check if a number is prime or not\n",
    "number = 8\n",
    "# 2, 3, 4, 5, 6\n",
    "for table in range(2, number):\n",
    "    if (number % table == 0):\n",
    "        print(\"Not a prime number\")\n",
    "        break\n",
    "else:\n",
    "    print(\"Prime Number\")"
   ]
  },
  {
   "cell_type": "code",
   "execution_count": 19,
   "metadata": {},
   "outputs": [
    {
     "name": "stdout",
     "output_type": "stream",
     "text": [
      "1\n",
      "['banana', 'berry']\n",
      "['banana', 'berry']\n",
      "['berry', 'banana', 'apple']\n",
      "['berry', 'banana', 'apple']\n",
      "False\n",
      "True\n",
      "3\n",
      "berry count in fruits list : 1\n",
      "['APPLE', ['pineapple', 'cherry'], 'berry'] 3\n"
     ]
    }
   ],
   "source": [
    "# list [], mutable, can store heterogenous data\n",
    "fruits = ['apple', 'banana', 'berry']\n",
    "\n",
    "# index\n",
    "b_index = fruits.index('banana')\n",
    "print(b_index)\n",
    "\n",
    "# slicing (+ve, -ve)\n",
    "print(fruits[1:]) \n",
    "print(fruits[-2:])\n",
    "print(fruits[::-1])\n",
    "print(fruits[:-4:-1])\n",
    "\n",
    "# in, not in\n",
    "print('Berry' in fruits)\n",
    "print('Berry' not in fruits)\n",
    "\n",
    "# len\n",
    "print(len(fruits))\n",
    "\n",
    "# count\n",
    "print(f'berry count in fruits list : {fruits.count('berry')}')\n",
    "\n",
    "# modifying elements with index\n",
    "fruits[0] = fruits[0].upper()\n",
    "fruits[1] = ['pineapple', 'cherry']\n",
    "print(fruits, len(fruits))"
   ]
  },
  {
   "cell_type": "code",
   "execution_count": null,
   "metadata": {},
   "outputs": [
    {
     "name": "stdout",
     "output_type": "stream",
     "text": [
      "[]\n",
      "['asparagus', 'brocolli', 'bell pepper']\n",
      "['asparagus', 'brocolli', 'bell pepper', 'apple', 'banana', 'berry']\n",
      "['apple', 'banana', 'berry', 'asparagus', 'brocolli', 'bell pepper', 'apple', 'banana', 'berry']\n",
      "['apple', 'celery', 'banana', 'berry', 'asparagus', 'brocolli', 'bell pepper', 'apple', 'banana', 'berry']\n",
      "['apple', 'banana', 'brocolli', 'bell pepper', 'apple', 'banana', 'berry']\n",
      "[1, 3, 4, 2]\n",
      "[1, 2, 3, 4, 5, 6, 7, 8]\n",
      "[0, 0, 0, 0, 0, 0, 0, 0, 0, 0]\n",
      "[1, 2, 3, 4, 1, 2, 3, 4, 1, 2, 3, 4, 1, 2, 3, 4, 1, 2, 3, 4]\n",
      "8 1 10\n",
      "[8, 7, 6, 5, 4, 3, 2, 1]\n",
      "['akhil', 1, 'nick', 3, 4, 5]\n",
      "akhil\n"
     ]
    }
   ],
   "source": [
    "# append -> adds element at the end\n",
    "veggies = list()\n",
    "print(veggies)\n",
    "\n",
    "veggies.append('asparagus')\n",
    "veggies.append('brocolli')\n",
    "veggies.append('bell pepper')\n",
    "print(veggies)\n",
    "\n",
    "# extend -> concatenation of two lists\n",
    "fruits = ['apple', 'banana', 'berry']\n",
    "\n",
    "veggies.extend(fruits)\n",
    "print(veggies)\n",
    "\n",
    "fruits.extend(veggies)\n",
    "print(fruits)\n",
    "\n",
    "# insert -> can add at any index\n",
    "fruits.insert(1, 'celery')\n",
    "print(fruits)\n",
    "\n",
    "# pop -> removes element based on index\n",
    "['apple', 'celery', 'banana', 'berry', 'asparagus', 'brocolli', 'bell pepper', 'apple', 'banana', 'berry']\n",
    "fruits.pop(4)\n",
    "fruits.pop(1)\n",
    "fruits.pop(2)\n",
    "print(fruits)\n",
    "\n",
    "# remove\n",
    "nums = [1, 1, 2, 3, 4, 2]\n",
    "nums.remove(1)\n",
    "nums.remove(2)\n",
    "print(nums)\n",
    "\n",
    "# concatenate\n",
    "arr1 = [1, 2, 3, 4]\n",
    "arr2 = [5, 6, 7, 8]\n",
    "arr = arr1 + arr2\n",
    "print(arr)\n",
    "\n",
    "# multiply list with scalar\n",
    "zeroes = [0] * 10\n",
    "print(zeroes)\n",
    "\n",
    "print(arr1*5)\n",
    "\n",
    "# max, min, sum\n",
    "print(max(arr), min(arr), sum(arr1))\n",
    "\n",
    "# reverse\n",
    "arr.reverse()\n",
    "print(arr)\n",
    "\n",
    "# list conversion\n",
    "name = ('akhil', 1, 'nick', 3, 4, 5)\n",
    "print(list(name))\n",
    "\n"
   ]
  },
  {
   "cell_type": "code",
   "execution_count": 22,
   "metadata": {},
   "outputs": [
    {
     "name": "stdout",
     "output_type": "stream",
     "text": [
      "akhil\n",
      "akhil 4987423554\n",
      "[26, 'cse', 'usa', 'single']\n"
     ]
    }
   ],
   "source": [
    "# unpacking\n",
    "data = [\"akhil\", \"cse\", \"usa\"]\n",
    "name, branch, state = data\n",
    "print(name)\n",
    "\n",
    "bio = [\"akhil\", \"4987423554\", 26, \"cse\", \"usa\", \"single\"]\n",
    "name, phn, *remaining = bio\n",
    "print(name, phn)\n",
    "print(remaining)"
   ]
  },
  {
   "cell_type": "code",
   "execution_count": 48,
   "metadata": {},
   "outputs": [
    {
     "name": "stdout",
     "output_type": "stream",
     "text": [
      "0 akhil\n",
      "1 cse\n",
      "2 usa\n",
      "3 23543243\n",
      "=======================\n",
      "\n",
      "0 akhil\n",
      "1 cse\n",
      "2 usa\n",
      "3 23543243\n",
      "=======================\n",
      "\n",
      "ascending order: [1, 10, 11, 20]\n",
      "descending order: [20, 11, 10, 1]\n",
      "=======================\n",
      "\n",
      "[3, 2, 4, 1]\n",
      "[1, 2, 3, 4]\n",
      "[4, 3, 2, 1]\n"
     ]
    }
   ],
   "source": [
    "# enumerate\n",
    "data = [\"akhil\", \"cse\", \"usa\", 23543243]\n",
    "for i in range(len(data)):\n",
    "    print(f\"{i} {data[i]}\")\n",
    "\n",
    "print(\"=======================\\n\")\n",
    "\n",
    "for idx, element in enumerate(data):\n",
    "    print(idx, element)\n",
    "\n",
    "print(\"=======================\\n\")\n",
    "\n",
    "nums = [1, 20, 10, 11]\n",
    "nums.sort()\n",
    "print(f\"ascending order: {nums}\")\n",
    "\n",
    "nums.sort(reverse=True)\n",
    "print(f\"descending order: {nums}\")\n",
    "\n",
    "print(\"=======================\\n\")\n",
    "\n",
    "nums = [3, 2, 4, 1]\n",
    "nums2 = sorted(nums)\n",
    "nums3 = sorted(nums, reverse=True)\n",
    "print(nums)\n",
    "print(nums2)\n",
    "print(nums3)"
   ]
  },
  {
   "cell_type": "code",
   "execution_count": 65,
   "metadata": {},
   "outputs": [
    {
     "name": "stdout",
     "output_type": "stream",
     "text": [
      "False\n",
      "True\n",
      "[3, 4, 5, 6]\n",
      "[3, 4, 5]\n",
      "[897652, [26, 8]]\n",
      "[26, 8]\n",
      "897652\n",
      "90\n",
      "8\n"
     ]
    }
   ],
   "source": [
    "# list comparision\n",
    "arr1 = [1, 2, 3]\n",
    "arr2 = [1, 2, 3]\n",
    "\n",
    "\n",
    "print(arr1 is arr2) #compares memory -> id(arr1) == id(arr2)\n",
    "print(arr1 == arr2) #compares elements\n",
    "\n",
    "# copy\n",
    "arr = [3, 4, 5]\n",
    "arr2 = arr.copy()\n",
    "arr2.append(6)\n",
    "\n",
    "print(arr2)\n",
    "print(arr)\n",
    "\n",
    "# nested lists\n",
    "bio = [\"akhil\", [897652, [26, 8]], [\"usa\", 90]]\n",
    "print(bio[1])\n",
    "print(bio[1][1])\n",
    "print(bio[1][0])\n",
    "print(bio[2][1])\n",
    "print(bio[1][1][1])"
   ]
  },
  {
   "cell_type": "code",
   "execution_count": null,
   "metadata": {},
   "outputs": [
    {
     "name": "stdout",
     "output_type": "stream",
     "text": [
      "user_id : 3, name: akhil, branch: cse\n",
      "user_id : 2, name: nikhil, branch: it\n",
      "user_id : 4, name: kanth, branch: ece\n",
      "user_id : 5, name: ram, branch: ece\n",
      "(2, 'nikhil', 'it')\n",
      "(3, 'akhil', 'cse')\n"
     ]
    }
   ],
   "source": [
    "\"\"\" \n",
    "-tuple -> (), immutable \n",
    "      -list of tuples & it's unpacking\n",
    "      -iterating list of tuples\n",
    "      -unpacking(*var,*_)\n",
    "      -sorting list of tuples \n",
    "\"\"\"\n",
    "# nums = (1, 2, 3, 4, 1, 3)\n",
    "# print(len(nums))\n",
    "# print(nums.count(3))\n",
    "# print(nums.index(4))\n",
    "# print(\"=======================\")\n",
    "\n",
    "# -list of tuples & it's unpacking\n",
    "data = [\n",
    "    \t(3, 'akhil', 'cse'),\n",
    "        (2, 'nikhil', 'it'), \n",
    "        (4, 'kanth', 'ece'),\n",
    "        (5, 'ram', 'ece')\n",
    "    ]\n",
    "\n",
    "k_id = data[2][0]\n",
    "k_name = data[2][1]\n",
    "k_branch = data[2][2]\n",
    "\n",
    "# iterating list of tuples\n",
    "for i in range(len(data)):\n",
    "    print(f\"user_id : {data[i][0]}, name: {data[i][1]}, branch: {data[i][2]}\")\n",
    "\n",
    "# unpacking(*var,*_)\n",
    "a_data, n_data, k_data, r_data = data\n",
    "print(n_data)\n",
    "\n",
    "a_data, *_ = data\n",
    "print(a_data)\n"
   ]
  },
  {
   "cell_type": "code",
   "execution_count": 58,
   "metadata": {},
   "outputs": [
    {
     "name": "stdout",
     "output_type": "stream",
     "text": [
      "[(2, 'nikhil', 'it', 400), (3, 'akhil', 'cse', 1000), (4, 'kanth', 'ece', 500), (5, 'ram', 'ece', 200)]\n",
      "=========================\n",
      "[(3, 'akhil', 'cse', 1000), (4, 'kanth', 'ece', 500), (2, 'nikhil', 'it', 400), (5, 'ram', 'ece', 200)]\n",
      "=========================\n",
      "[(3, 'akhil', 'cse', 1000), (4, 'kanth', 'ece', 500), (5, 'ram', 'ece', 200), (2, 'nikhil', 'it', 400)]\n",
      "=========================\n"
     ]
    }
   ],
   "source": [
    "data = [\n",
    "    \t(3, 'akhil', 'cse', 1000),\n",
    "        (2, 'nikhil', 'it', 400), \n",
    "        (4, 'kanth', 'ece', 500),\n",
    "        (5, 'ram', 'ece', 200)\n",
    "    ]\n",
    "\n",
    "# sorting list of tuples \n",
    "data.sort(key=lambda x:x[0]) #sorted based on 0th index in every tuple\n",
    "print(data)\n",
    "print(\"=========================\")\n",
    "\n",
    "data.sort(key=lambda x:x[1]) #sorted based on 1st index in every tuple\n",
    "print(data)\n",
    "print(\"=========================\")\n",
    "\n",
    "data.sort(key=lambda x:x[2]) #sorted based on 2nd index in every tuple\n",
    "print(data)\n",
    "print(\"=========================\")"
   ]
  },
  {
   "cell_type": "code",
   "execution_count": 67,
   "metadata": {},
   "outputs": [
    {
     "name": "stdout",
     "output_type": "stream",
     "text": [
      "cse\n",
      "it\n",
      "ece\n",
      "ece\n"
     ]
    }
   ],
   "source": [
    "data = [\n",
    "    \t(3, 'akhil', 'cse', 1000),\n",
    "        (2, 'nikhil', 'it', 400), \n",
    "        (4, 'kanth', 'ece', 500),\n",
    "        (5, 'ram', 'ece', 200)\n",
    "    ]\n",
    "\n",
    "# k_id = data[2][0]\n",
    "# r_salary = data[3][3]\n",
    "# print(r_salary)\n",
    "\n",
    "for i in range(len(data)):\n",
    "    print(data[i][2])\n"
   ]
  },
  {
   "cell_type": "code",
   "execution_count": null,
   "metadata": {},
   "outputs": [],
   "source": []
  },
  {
   "cell_type": "code",
   "execution_count": null,
   "metadata": {},
   "outputs": [],
   "source": []
  },
  {
   "cell_type": "code",
   "execution_count": 107,
   "metadata": {},
   "outputs": [
    {
     "name": "stdout",
     "output_type": "stream",
     "text": [
      "---least salaried employee---\n",
      "Vicky\n",
      "---highest salaried employee---\n",
      "Samantha\n",
      "-----Maths employees----\n",
      "Asma\n",
      "Samantha\n",
      "Vicky\n",
      "----sorting based on employees salaries----\n",
      "(1238, 'Vicky', 'Maths', 10000)\n",
      "(1235, 'Asma', 'Maths', 13000)\n",
      "(1234, 'John', 'Physics', 23000)\n",
      "(1237, 'Amanda', 'Chemistry', 25000)\n",
      "(1236, 'Samantha', 'Maths', 40000)\n",
      "---Print employees whose name starts with A---\n",
      "Asma\n",
      "Amanda\n",
      "---Print employees whose salary is in range of 20000 to 30000 (inclusive)---\n",
      "John 23000\n",
      "Amanda 25000\n",
      "---print even id Employees---\n",
      "1234 John\n",
      "1236 Samantha\n",
      "1238 Vicky\n"
     ]
    }
   ],
   "source": [
    "employee_db = [\n",
    "        (1234, 'John', 'Physics', 23000),\n",
    "        (1235, 'Asma', 'Maths', 13000),\n",
    "        (1236, 'Samantha', 'Maths', 40000), \n",
    "        (1237, 'Amanda', 'Chemistry', 25000), \n",
    "        (1238, 'Vicky', 'Maths', 10000) \n",
    "    ]\n",
    "\"\"\" \n",
    "least salaried employee\n",
    "highest salaried employee\n",
    "Maths employees\n",
    "sorting based on employees salaries\n",
    "Print employees whose name starts with A\n",
    "Print employees whose salary is in range of 20000 to 30000 (inclusive).\n",
    "print even id Employees\n",
    "\"\"\"\n",
    "\n",
    "print(\"---least salaried employee---\")\n",
    "least_sal_data = min(employee_db, key=lambda x:x[3]) #(1238, 'Vicky', 'Maths', 10000)\n",
    "print(least_sal_data[1])\n",
    "\n",
    "print(\"---highest salaried employee---\")\n",
    "highest_sal_data = max(employee_db, key=lambda x:x[3])\n",
    "print(highest_sal_data[1])\n",
    "\n",
    "print(\"-----Maths employees----\")\n",
    "for user in range(len(employee_db)):\n",
    "    subject = employee_db[user][2]\n",
    "    if (subject == \"Maths\"):\n",
    "        print(employee_db[user][1])\n",
    "        \n",
    "print(\"----sorting based on employees salaries----\")\n",
    "employee_db.sort(key=lambda x:x[3])\n",
    "for user in range(len(employee_db)):\n",
    "    print(employee_db[user])\n",
    "    \n",
    "print(\"---Print employees whose name starts with A---\")\n",
    "for user in range(len(employee_db)):\n",
    "    name = employee_db[user][1]\n",
    "    if (name[0] == \"A\"):\n",
    "        print(name)\n",
    "        \n",
    "print(\"---Print employees whose salary is in range of 20000 to 30000 (inclusive)---\")\n",
    "for user in range(len(employee_db)):\n",
    "    salary = employee_db[user][3]\n",
    "    if (salary >= 20000) and (salary <= 30000):\n",
    "        print(employee_db[user][1], employee_db[user][3])\n",
    "\n",
    "employee_db.sort() # to sort based on id\n",
    "\n",
    "print(\"---print even id Employees---\")\n",
    "for user in range(len(employee_db)):\n",
    "    u_id = employee_db[user][0]\n",
    "    if (u_id % 2 == 0):\n",
    "        print(employee_db[user][0], employee_db[user][1])"
   ]
  }
 ],
 "metadata": {
  "kernelspec": {
   "display_name": "Python 3",
   "language": "python",
   "name": "python3"
  },
  "language_info": {
   "codemirror_mode": {
    "name": "ipython",
    "version": 3
   },
   "file_extension": ".py",
   "mimetype": "text/x-python",
   "name": "python",
   "nbconvert_exporter": "python",
   "pygments_lexer": "ipython3",
   "version": "3.12.4"
  }
 },
 "nbformat": 4,
 "nbformat_minor": 2
}
