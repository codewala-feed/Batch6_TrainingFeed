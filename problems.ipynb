{
 "cells": [
  {
   "cell_type": "code",
   "execution_count": null,
   "metadata": {},
   "outputs": [],
   "source": [
    "\"\"\" \n",
    "Problem:\n",
    "Write a program to store your name, age, and height in appropriate variables. \n",
    "Print these variables in a sentence.\n",
    "\n",
    "# Example Output: \"My name is John, I am 25 years old, and my height is 175.5 cm.\"\n",
    "\n",
    "\"\"\"\n",
    "name = input(\"Enter Name:\")\n",
    "age = int(input(\"Enter Age:\"))\n",
    "height = float(input(\"Enter Height:\"))\n",
    "print(f\"My name is {name}, I am {age} years old, and my height is {height} cm.\")"
   ]
  },
  {
   "cell_type": "code",
   "execution_count": null,
   "metadata": {},
   "outputs": [],
   "source": [
    "\"\"\" \n",
    "Write a program that takes two integer inputs from the user. \n",
    "print their sum, difference, product, and quotient.\n",
    "\n",
    "# Example Input: 5 3\n",
    "# Example Output: Sum: 8, Difference: 2, Product: 15, Quotient: 1.6667\n",
    "\"\"\"\n",
    "data = input(\"Enter Two Nums: \").split()\n",
    "num1 = int(data[0])\n",
    "num2 = int(data[1])\n",
    "print(f\"Sum: {num1+num2}, Difference: {num1-num2}, Product: {num1*num2}, Quotient: {num1/num2}\")"
   ]
  },
  {
   "cell_type": "code",
   "execution_count": null,
   "metadata": {},
   "outputs": [],
   "source": [
    "\"\"\" \n",
    "Problem: Write a program that takes two numbers as input and prints their average.\n",
    "\n",
    "# Example Input: 10, 20\n",
    "# Example Output: 15.0\n",
    "\n",
    "\"\"\"\n",
    "data = input(\"Enter Two Nums: \").split(\",\")\n",
    "num1 = int(data[0])\n",
    "num2 = int(data[1])\n",
    "total = num1+num2\n",
    "print(total/2)"
   ]
  },
  {
   "cell_type": "code",
   "execution_count": 2,
   "metadata": {},
   "outputs": [
    {
     "name": "stdout",
     "output_type": "stream",
     "text": [
      "10\n"
     ]
    }
   ],
   "source": [
    "\"\"\" \n",
    "Problem: Write a program that takes a float input as string converts it to an integer. \n",
    "Print the integer value.\n",
    "\n",
    "# Example Input: 10.5\n",
    "# Example Output: 10\n",
    "\n",
    "\"\"\"\n",
    "num = float(input(\"Enter num:\"))\n",
    "print(int(num))"
   ]
  },
  {
   "cell_type": "code",
   "execution_count": null,
   "metadata": {},
   "outputs": [
    {
     "name": "stdout",
     "output_type": "stream",
     "text": [
      "Taken numbers are: -5 -5\n",
      "Memory address of variable1: 140727061969144\n",
      "Memory address of variable2: 140727061969144\n",
      "True\n"
     ]
    }
   ],
   "source": [
    "\"\"\" \n",
    "MEMORY MODEL RANGE: -5 to 256\n",
    "Problem: Write a program that creates two variables with the same value. \n",
    "Use the id() function to print their memory addresses. Are they the same or different?\n",
    "\n",
    "Example Input:\n",
    " variable1: 240\n",
    " variable2: 240\n",
    " \n",
    "Example Output: \n",
    " Memory address of variable1: 140710908329616 \n",
    " Memory address of variable2: 140710908329616\n",
    " True\n",
    "\n",
    "\"\"\"\n",
    "num1 = int(input(\"variable1:\"))\n",
    "num2 = int(input(\"variable2:\"))\n",
    "\n",
    "m1 = id(num1)\n",
    "m2 = id(num2)\n",
    "\n",
    "print(f\"Taken numbers are: {num1} {num2}\")\n",
    "print(f\"Memory address of variable1: {m1}\")\n",
    "print(f\"Memory address of variable2: {m2}\")\n",
    "print(m1==m2)\n"
   ]
  },
  {
   "cell_type": "code",
   "execution_count": 9,
   "metadata": {},
   "outputs": [
    {
     "name": "stdout",
     "output_type": "stream",
     "text": [
      "Greater: True\n",
      "Equal: False\n",
      "Less: False\n"
     ]
    }
   ],
   "source": [
    "\"\"\" \n",
    "Problem: Write a Python program that takes two numbers as input and\n",
    " checks whether the first number is greater than, less than, or equal to the second number.\n",
    "\n",
    "Example Input:\n",
    " Enter the first number: 10\n",
    " Enter the second number: 3\n",
    "\n",
    "Example Output:\n",
    " Greater: True\n",
    " Equal: False\n",
    " Less: False\n",
    "\n",
    "\"\"\"\n",
    "num1 = int(input(\"num1:\"))\n",
    "num2 = int(input(\"num2:\"))\n",
    "print(f\"Greater: {num1>num2}\")\n",
    "print(f\"Equal: {num1==num2}\")\n",
    "print(f\"Less: {num1<num2}\")"
   ]
  },
  {
   "cell_type": "code",
   "execution_count": null,
   "metadata": {},
   "outputs": [],
   "source": [
    "\"\"\" \n",
    "Problem: Write a Python program that takes three boolean inputs and\n",
    " prints the result of their logical AND, logical OR.\n",
    "\n",
    "Example Input:\n",
    " Enter the first boolean value (True/False): True\n",
    " Enter the second boolean value (True/False): False\n",
    " Enter the third boolean value (True/False): True\n",
    "\n",
    "Example Output:\n",
    " Logical AND: False\n",
    " Logical OR: True\n",
    "\n",
    "\"\"\"\n",
    "# num1 = bool(input(\"num1:\")) \n",
    "# num2 = bool(input(\"num2:\"))\n",
    "# num3 = bool(input(\"num3:\"))\n",
    "# print(f\"Logical AND: {num1 and num2 and num3}\")\n",
    "# print(f\"Logical OR: {num1 or num2 or num3}\")"
   ]
  },
  {
   "cell_type": "code",
   "execution_count": 10,
   "metadata": {},
   "outputs": [
    {
     "name": "stdout",
     "output_type": "stream",
     "text": [
      "After addition: 15\n",
      "After subtraction: 5\n",
      "After multiplication: 15\n",
      "After division: 7.5\n"
     ]
    }
   ],
   "source": [
    "\"\"\" \n",
    "Problem: Write a Python program that initializes a variable with a number and \n",
    "then uses short-hand assignment operators to perform and print the result after \n",
    "addition of 5, subtraction of 10, multiplication of 3, and division of 2.\n",
    "Example Input:\n",
    " Enter a number: 10\n",
    "\n",
    "Example Output:\n",
    " After addition: 15\n",
    " After subtraction: 5\n",
    " After multiplication: 15\n",
    " After division: 7.5\n",
    "\n",
    "\"\"\"\n",
    "num = int(input(\"Enter Number\"))\n",
    "num += 5\n",
    "print(f\"After addition: {num}\")\n",
    "\n",
    "num -= 10\n",
    "print(f\"After subtraction: {num}\")\n",
    "\n",
    "num *= 3\n",
    "print(f\"After multiplication: {num}\")\n",
    "\n",
    "num /= 2\n",
    "print(f\"After division: {num}\")\n"
   ]
  },
  {
   "cell_type": "code",
   "execution_count": 13,
   "metadata": {},
   "outputs": [
    {
     "name": "stdout",
     "output_type": "stream",
     "text": [
      "3.0\n"
     ]
    }
   ],
   "source": [
    "\"\"\" \n",
    "Problem: Write a python program that takes an integer input and print square root of it.\n",
    "\n",
    "Example Input:\n",
    " Enter Number: 81\n",
    "\n",
    "Example Output:\n",
    " 9.0\n",
    "\"\"\"\n",
    "num = int(input(\"Enter Number: \"))\n",
    "print(num**(1/2))"
   ]
  },
  {
   "cell_type": "code",
   "execution_count": 15,
   "metadata": {},
   "outputs": [
    {
     "name": "stdout",
     "output_type": "stream",
     "text": [
      "False\n"
     ]
    }
   ],
   "source": [
    "\"\"\" \n",
    "Problem: Write a Python program that takes a string and a character as input and \n",
    "checks whether the character is present in the string.\n",
    "\n",
    "Example Input:\n",
    " Enter a string: hello\n",
    " Enter a character: e\n",
    "\n",
    "Example Output:\n",
    " True\n",
    "\n",
    "\"\"\"\n",
    "string = input(\"Enter a string:\")\n",
    "character = input(\"Enter a character:\")\n",
    "print(character in string)"
   ]
  },
  {
   "cell_type": "code",
   "execution_count": null,
   "metadata": {},
   "outputs": [
    {
     "name": "stdout",
     "output_type": "stream",
     "text": [
      "2 4 6 8 10 12 14 \n",
      "1 3 5 7 9 11 13 15 "
     ]
    }
   ],
   "source": [
    "\"\"\" \n",
    "print even & odd numbers from 1 to n(inclusive), take n value from user as input\n",
    "\n",
    "\"\"\"\n",
    "n = int(input(\"Enter N: \"))\n",
    "for number in range(1, n+1, 1):\n",
    "    if (number % 2) == 0:\n",
    "    \tprint(number, end=\" \")\n",
    "\n",
    "print()\n",
    "\n",
    "for number in range(1, n+1, 1):\n",
    "    if (number % 2) != 0:\n",
    "    \tprint(number, end=\" \")"
   ]
  },
  {
   "cell_type": "code",
   "execution_count": null,
   "metadata": {},
   "outputs": [
    {
     "name": "stdout",
     "output_type": "stream",
     "text": [
      "5 10 "
     ]
    }
   ],
   "source": [
    "\"\"\" \n",
    "print multiples of 5 from 1 to n(inclusive), take n value from user as input\n",
    "\"\"\"\n",
    "n = int(input(\"Enter N: \"))\n",
    "for number in range(1, n+1, 1):\n",
    "    if (number % 5) == 0:\n",
    "    \tprint(number, end=\" \")"
   ]
  },
  {
   "cell_type": "code",
   "execution_count": 22,
   "metadata": {},
   "outputs": [
    {
     "name": "stdout",
     "output_type": "stream",
     "text": [
      "15 10 5 "
     ]
    }
   ],
   "source": [
    "\"\"\" \n",
    "print multiples of 5 from n to 1, take n value from user as input\n",
    "\n",
    "\"\"\"\n",
    "n = int(input(\"Enter N: \"))\n",
    "for number in range(n, 0, -1):\n",
    "    if (number % 5) == 0:\n",
    "    \tprint(number, end=\" \")"
   ]
  },
  {
   "cell_type": "code",
   "execution_count": null,
   "metadata": {},
   "outputs": [],
   "source": [
    "\"\"\"  \n",
    "Counting Specific Characters\n",
    "Use Case: You have a list of sentences, and you need to count how many times a specific character \n",
    "(e.g., 'a') appears in each sentence.\n",
    "sentences = [\n",
    "    \"Apples are red.\",\n",
    "    \"Bananas are yellow.\",\n",
    "    \"Oranges are orange.\"\n",
    "]\n",
    "c = \"a\"\n",
    "\"\"\""
   ]
  },
  {
   "cell_type": "code",
   "execution_count": null,
   "metadata": {},
   "outputs": [],
   "source": [
    "\"\"\" \n",
    "Checking Palindromes\n",
    "Use Case: You need to check if each word in a list of words is a palindrome.\n",
    "words = [\"radar\", \"apple\", \"level\", \"world\"]\n",
    "\"\"\""
   ]
  },
  {
   "cell_type": "code",
   "execution_count": null,
   "metadata": {},
   "outputs": [],
   "source": [
    "\"\"\" \n",
    "Email Domain Extraction\n",
    "emails = [\n",
    "    \"nick.doe@example.com\",\n",
    "    \"steeve.smith@example.com\",\n",
    "    \"tony@domain.com\",\n",
    "    \"admin@domain.com\"\n",
    "]\n",
    "\n",
    "\"\"\""
   ]
  },
  {
   "cell_type": "code",
   "execution_count": null,
   "metadata": {},
   "outputs": [],
   "source": [
    "\"\"\" \n",
    "Addition of Numbers in a List\n",
    "Use Case: You need to calculate the sum of numbers in a list.\n",
    "numbers = [10, 20, 30, 40, 50]\n",
    "\"\"\""
   ]
  },
  {
   "cell_type": "code",
   "execution_count": null,
   "metadata": {},
   "outputs": [],
   "source": [
    "\"\"\" \n",
    "nth Table\n",
    "7 x 1 = 7\n",
    "7 x 2 = 14\n",
    ".\n",
    ".\n",
    "7 x 10 = 70\n",
    "\"\"\""
   ]
  },
  {
   "cell_type": "code",
   "execution_count": null,
   "metadata": {},
   "outputs": [],
   "source": [
    "\"\"\" \n",
    "Check for Leap Year\n",
    "It should satisfy either \n",
    "        A year should divide with 4 and not divided by 100\n",
    "                        or\n",
    "        A year should divide with 400\n",
    "\"\"\""
   ]
  },
  {
   "cell_type": "code",
   "execution_count": null,
   "metadata": {},
   "outputs": [],
   "source": [
    "\"\"\"  \n",
    "Find the First Even Number in a List\n",
    "numbers = [1, 3, 7, 8, 10]\n",
    "o/p :- 8\n",
    "\"\"\""
   ]
  },
  {
   "cell_type": "code",
   "execution_count": null,
   "metadata": {},
   "outputs": [],
   "source": [
    "\"\"\"  \n",
    "Skip Multiples of 3 from 1 to 20 (hint: continue)\n",
    "\"\"\""
   ]
  }
 ],
 "metadata": {
  "kernelspec": {
   "display_name": "Python 3",
   "language": "python",
   "name": "python3"
  },
  "language_info": {
   "codemirror_mode": {
    "name": "ipython",
    "version": 3
   },
   "file_extension": ".py",
   "mimetype": "text/x-python",
   "name": "python",
   "nbconvert_exporter": "python",
   "pygments_lexer": "ipython3",
   "version": "3.12.4"
  }
 },
 "nbformat": 4,
 "nbformat_minor": 2
}
