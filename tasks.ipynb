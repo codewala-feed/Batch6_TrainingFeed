{
 "cells": [
  {
   "cell_type": "code",
   "execution_count": null,
   "metadata": {},
   "outputs": [],
   "source": [
    "\"\"\"\n",
    "1.\n",
    "rewrite the following variables correctly just below each variable inside this comment\n",
    "2number, first-name, last name\n",
    "number2, first_name, lastName\n",
    "\"\"\""
   ]
  },
  {
   "cell_type": "code",
   "execution_count": null,
   "metadata": {},
   "outputs": [
    {
     "name": "stdout",
     "output_type": "stream",
     "text": [
      "sum is 120\n"
     ]
    }
   ],
   "source": [
    "\"\"\"\n",
    "2.\n",
    "take two integer inputs and print their sum\n",
    "ex: \n",
    "10\n",
    "20\n",
    "sum is 30\n",
    "\"\"\"\n",
    "num1 = int(input(\"Enter Num1:\"))\n",
    "num2 = int(input(\"Enter Num2:\"))\n",
    "print(\"sum is\", num1+num2)"
   ]
  },
  {
   "cell_type": "code",
   "execution_count": null,
   "metadata": {},
   "outputs": [],
   "source": [
    "\"\"\"\n",
    "3.\n",
    "take two float inputs and print their sum\n",
    "ex: \n",
    "25.5\n",
    "25.5\n",
    "sum is 51.0\n",
    "\"\"\"\n",
    "num1 = float(input(\"Enter Num1:\"))\n",
    "num2 = float(input(\"Enter Num2:\"))\n",
    "print(\"sum is\", num1+num2)"
   ]
  },
  {
   "cell_type": "code",
   "execution_count": 3,
   "metadata": {},
   "outputs": [
    {
     "name": "stdout",
     "output_type": "stream",
     "text": [
      "fullname: akhil chowdary\n"
     ]
    }
   ],
   "source": [
    "\"\"\"\n",
    "4.\n",
    "take two string inputs, first_name and last_name, print the full name\n",
    "ex: \n",
    "akhil\n",
    "chowdary\n",
    "fullname: akhil chowdary\n",
    "\"\"\"\n",
    "first_name = input(\"Enter firstname:\")\n",
    "last_name = input(\"Enter lastname:\")\n",
    "print(\"fullname:\", first_name, last_name)"
   ]
  },
  {
   "cell_type": "code",
   "execution_count": 5,
   "metadata": {},
   "outputs": [
    {
     "name": "stdout",
     "output_type": "stream",
     "text": [
      "Hello akhil, you are 24 years old\n"
     ]
    }
   ],
   "source": [
    "\"\"\"\n",
    "5.\n",
    "take string input and integer input and print the following message\n",
    "ex: akhil\n",
    "     24\n",
    "Hello akhil, you are 24 years old\n",
    "\"\"\"\n",
    "name = input(\"Enter Name:\")\n",
    "age = int(input(\"Enter Age:\"))\n",
    "print(f\"Hello {name}, you are {age} years old\")"
   ]
  }
 ],
 "metadata": {
  "kernelspec": {
   "display_name": "Python 3",
   "language": "python",
   "name": "python3"
  },
  "language_info": {
   "codemirror_mode": {
    "name": "ipython",
    "version": 3
   },
   "file_extension": ".py",
   "mimetype": "text/x-python",
   "name": "python",
   "nbconvert_exporter": "python",
   "pygments_lexer": "ipython3",
   "version": "3.12.4"
  }
 },
 "nbformat": 4,
 "nbformat_minor": 2
}
