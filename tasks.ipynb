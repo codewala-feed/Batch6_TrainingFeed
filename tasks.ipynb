{
 "cells": [
  {
   "cell_type": "code",
   "execution_count": null,
   "metadata": {},
   "outputs": [],
   "source": [
    "\"\"\"\n",
    "1.\n",
    "rewrite the following variables correctly just below each variable inside this comment\n",
    "2number, first-name, last name\n",
    "\"\"\"\n"
   ]
  },
  {
   "cell_type": "code",
   "execution_count": 1,
   "metadata": {},
   "outputs": [
    {
     "data": {
      "text/plain": [
       "'\\n2.\\ntake two integer inputs and print their sum\\nex: 10\\n'"
      ]
     },
     "execution_count": 1,
     "metadata": {},
     "output_type": "execute_result"
    }
   ],
   "source": [
    "\"\"\"\n",
    "2.\n",
    "take two integer inputs and print their sum\n",
    "ex: \n",
    "10\n",
    "20\n",
    "sum is 30\n",
    "\"\"\""
   ]
  },
  {
   "cell_type": "code",
   "execution_count": null,
   "metadata": {},
   "outputs": [],
   "source": [
    "\"\"\"\n",
    "3.\n",
    "take two float inputs and print their sum\n",
    "ex: \n",
    "25.5\n",
    "25.5\n",
    "sum is 51.0\n",
    "\"\"\""
   ]
  },
  {
   "cell_type": "code",
   "execution_count": null,
   "metadata": {},
   "outputs": [],
   "source": [
    "\"\"\"\n",
    "4.\n",
    "take two string inputs, first_name and last_name, print the full name\n",
    "ex: \n",
    "akhil\n",
    "chowdary\n",
    "fullname: akhil chowdary\n",
    "\"\"\""
   ]
  },
  {
   "cell_type": "code",
   "execution_count": null,
   "metadata": {},
   "outputs": [],
   "source": [
    "\"\"\"\n",
    "5.\n",
    "take string input and integer input and print the following message\n",
    "ex: akhil\n",
    "     24\n",
    "Hello akhil, you are 24 years old\n",
    "\"\"\""
   ]
  }
 ],
 "metadata": {
  "kernelspec": {
   "display_name": "Python 3",
   "language": "python",
   "name": "python3"
  },
  "language_info": {
   "codemirror_mode": {
    "name": "ipython",
    "version": 3
   },
   "file_extension": ".py",
   "mimetype": "text/x-python",
   "name": "python",
   "nbconvert_exporter": "python",
   "pygments_lexer": "ipython3",
   "version": "3.12.4"
  }
 },
 "nbformat": 4,
 "nbformat_minor": 2
}
