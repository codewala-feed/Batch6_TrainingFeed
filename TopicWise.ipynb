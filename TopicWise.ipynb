{
 "cells": [
  {
   "cell_type": "code",
   "execution_count": null,
   "metadata": {},
   "outputs": [],
   "source": [
    "# variables and values \n",
    "name = \"akhil\"\n",
    "age = 24\n",
    "salary = 500.45\n",
    "isMarried = False\n",
    "isCommitted = True\n",
    "age = 25\n",
    "\n",
    "# del age\n",
    "\n",
    "print(name)\n",
    "print(salary)\n",
    "print(\"salary\")            \n",
    "print(\"12324tdgyf.@$#%^$3546\")\n",
    "print('igehmvwaebhe')\n",
    "print(\"\"\"kdslkjfhgdbgdj\"\"\")\n",
    "print('''codewala''')\n",
    "print(age)"
   ]
  },
  {
   "cell_type": "code",
   "execution_count": null,
   "metadata": {},
   "outputs": [],
   "source": [
    "# variable naming conventions\n",
    "\"\"\" \n",
    "- should not have spaces in variable\n",
    "- should not contain numbers at start\n",
    "- should start with only alphabets or _\n",
    "- to separate words in variable, you can use _ or capital letter in between\n",
    "- should not use keywords as variables\n",
    "\n",
    "snake case: is_married\n",
    "camel case: isMarried\n",
    "pascal casse: IsMarried\n",
    "\n",
    "\"\"\"\n",
    "# keywords (it is meant to be use for something(inbuilt))\n",
    "import keyword\n",
    "print(keyword.kwlist)\n",
    "print(len(keyword.kwlist))"
   ]
  },
  {
   "cell_type": "code",
   "execution_count": 8,
   "metadata": {},
   "outputs": [
    {
     "name": "stdout",
     "output_type": "stream",
     "text": [
      "Primitive Data Types:\n",
      "akhil\n",
      "25\n",
      "500.45\n",
      "False\n",
      "True\n",
      "\n",
      "Composite Data Types:\n",
      "['akhil', 'adithya', 'hari', 120, True, 234.3]\n",
      "(24, 45, 234, 'ravi', 'cherry')\n",
      "{1, 2, 3, 4, 5}\n",
      "{'name': 'akhil', 'age': 24, 'isCommitted': True, 100: 'id'}\n"
     ]
    }
   ],
   "source": [
    "\"\"\"\n",
    "data types\n",
    "\n",
    "primitive: int, float, bool, str\n",
    "composite/non-primitive: list [], tuple (), set {}, dict {key:value}\n",
    "\"\"\"\n",
    "name = \"akhil\"\n",
    "age = 24\n",
    "salary = 500.45\n",
    "isMarried = False\n",
    "isCommitted = True\n",
    "age = 25\n",
    "\n",
    "print(\"Primitive Data Types:\")\n",
    "print(name)\n",
    "print(age)\n",
    "print(salary)\n",
    "print(isMarried)\n",
    "print(isCommitted)\n",
    "\n",
    "names = [\"akhil\", \"adithya\", \"hari\", 120, True, 234.3]\n",
    "ages = (24, 45, 234, \"ravi\", \"cherry\")\n",
    "numbers = {1, 1, 2, 3, 4, 5}\n",
    "data = {\"name\":\"akhil\", \"age\":24, \"isCommitted\":True, 100:\"id\"}\n",
    "\n",
    "print()\n",
    "\n",
    "print(\"Composite Data Types:\")\n",
    "print(names)\n",
    "print(ages)\n",
    "print(numbers)\n",
    "print(data)"
   ]
  },
  {
   "cell_type": "code",
   "execution_count": null,
   "metadata": {},
   "outputs": [],
   "source": [
    "# input, output(print)\n",
    "name = input(\"Please Enter Name:\")\n",
    "print(\"Name Entered\", name)\n",
    "\n",
    "print()\n",
    "\n",
    "age = int(input(\"Please Enter Age:\"))\n",
    "print(\"Age Entered\", age)\n",
    "\n",
    "print()\n",
    "\n",
    "salary = float(input(\"Please Enter salary:\"))\n",
    "print(\"salary Entered\", salary)"
   ]
  }
 ],
 "metadata": {
  "kernelspec": {
   "display_name": "Python 3",
   "language": "python",
   "name": "python3"
  },
  "language_info": {
   "codemirror_mode": {
    "name": "ipython",
    "version": 3
   },
   "file_extension": ".py",
   "mimetype": "text/x-python",
   "name": "python",
   "nbconvert_exporter": "python",
   "pygments_lexer": "ipython3",
   "version": "3.12.4"
  }
 },
 "nbformat": 4,
 "nbformat_minor": 2
}
